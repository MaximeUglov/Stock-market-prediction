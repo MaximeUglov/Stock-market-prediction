{
 "cells": [
  {
   "cell_type": "code",
   "execution_count": 8,
   "id": "95fcf42f",
   "metadata": {},
   "outputs": [],
   "source": [
    "import pandas as pd\n",
    "import numpy as np\n",
    "import torch\n",
    "import warnings\n",
    "warnings.filterwarnings('ignore')"
   ]
  },
  {
   "cell_type": "markdown",
   "id": "fccdea93-bdc2-47ab-ac5e-e543fcdfa8a2",
   "metadata": {},
   "source": [
    "В этом блокноте переведем тексты из таблицы с новостями в эмбеддинги."
   ]
  },
  {
   "cell_type": "code",
   "execution_count": 11,
   "id": "5c46e375-f2ef-4403-a9e3-b9706702ac11",
   "metadata": {},
   "outputs": [
    {
     "data": {
      "text/html": [
       "<div>\n",
       "<style scoped>\n",
       "    .dataframe tbody tr th:only-of-type {\n",
       "        vertical-align: middle;\n",
       "    }\n",
       "\n",
       "    .dataframe tbody tr th {\n",
       "        vertical-align: top;\n",
       "    }\n",
       "\n",
       "    .dataframe thead th {\n",
       "        text-align: right;\n",
       "    }\n",
       "</style>\n",
       "<table border=\"1\" class=\"dataframe\">\n",
       "  <thead>\n",
       "    <tr style=\"text-align: right;\">\n",
       "      <th></th>\n",
       "      <th>Date</th>\n",
       "      <th>Open</th>\n",
       "      <th>High</th>\n",
       "      <th>Low</th>\n",
       "      <th>Close</th>\n",
       "      <th>Volume</th>\n",
       "      <th>Adj Close</th>\n",
       "    </tr>\n",
       "  </thead>\n",
       "  <tbody>\n",
       "    <tr>\n",
       "      <th>0</th>\n",
       "      <td>2015-12-31</td>\n",
       "      <td>17590.66016</td>\n",
       "      <td>17590.66016</td>\n",
       "      <td>17421.16016</td>\n",
       "      <td>17425.0293</td>\n",
       "      <td>93690000</td>\n",
       "      <td>17425.0293</td>\n",
       "    </tr>\n",
       "  </tbody>\n",
       "</table>\n",
       "</div>"
      ],
      "text/plain": [
       "        Date         Open         High          Low       Close    Volume  \\\n",
       "0 2015-12-31  17590.66016  17590.66016  17421.16016  17425.0293  93690000   \n",
       "\n",
       "    Adj Close  \n",
       "0  17425.0293  "
      ]
     },
     "execution_count": 11,
     "metadata": {},
     "output_type": "execute_result"
    }
   ],
   "source": [
    "table_train = pd.read_csv('data/DJIA_Table(train).csv')\n",
    "table_test = pd.read_csv('data/DJIA_Table(test).csv')\n",
    "table_train['Date'] = pd.to_datetime(table_train['Date'], dayfirst=True)\n",
    "table_test['Date'] = pd.to_datetime(table_test['Date'], dayfirst=True)\n",
    "table_train.head(1)"
   ]
  },
  {
   "cell_type": "code",
   "execution_count": 13,
   "id": "a0c21b0e-a700-45a0-858d-5374173079a4",
   "metadata": {},
   "outputs": [
    {
     "data": {
      "text/html": [
       "<div>\n",
       "<style scoped>\n",
       "    .dataframe tbody tr th:only-of-type {\n",
       "        vertical-align: middle;\n",
       "    }\n",
       "\n",
       "    .dataframe tbody tr th {\n",
       "        vertical-align: top;\n",
       "    }\n",
       "\n",
       "    .dataframe thead th {\n",
       "        text-align: right;\n",
       "    }\n",
       "</style>\n",
       "<table border=\"1\" class=\"dataframe\">\n",
       "  <thead>\n",
       "    <tr style=\"text-align: right;\">\n",
       "      <th></th>\n",
       "      <th>Date</th>\n",
       "      <th>Label</th>\n",
       "      <th>Top1</th>\n",
       "      <th>Top2</th>\n",
       "      <th>Top3</th>\n",
       "      <th>Top4</th>\n",
       "      <th>Top5</th>\n",
       "      <th>Top6</th>\n",
       "      <th>Top7</th>\n",
       "      <th>Top8</th>\n",
       "      <th>...</th>\n",
       "      <th>Top16</th>\n",
       "      <th>Top17</th>\n",
       "      <th>Top18</th>\n",
       "      <th>Top19</th>\n",
       "      <th>Top20</th>\n",
       "      <th>Top21</th>\n",
       "      <th>Top22</th>\n",
       "      <th>Top23</th>\n",
       "      <th>Top24</th>\n",
       "      <th>Top25</th>\n",
       "    </tr>\n",
       "  </thead>\n",
       "  <tbody>\n",
       "    <tr>\n",
       "      <th>0</th>\n",
       "      <td>2008-08-08</td>\n",
       "      <td>0</td>\n",
       "      <td>b\"Georgia 'downs two Russian warplanes' as cou...</td>\n",
       "      <td>b'BREAKING: Musharraf to be impeached.'</td>\n",
       "      <td>b'Russia Today: Columns of troops roll into So...</td>\n",
       "      <td>b'Russian tanks are moving towards the capital...</td>\n",
       "      <td>b\"Afghan children raped with 'impunity,' U.N. ...</td>\n",
       "      <td>b'150 Russian tanks have entered South Ossetia...</td>\n",
       "      <td>b\"Breaking: Georgia invades South Ossetia, Rus...</td>\n",
       "      <td>b\"The 'enemy combatent' trials are nothing but...</td>\n",
       "      <td>...</td>\n",
       "      <td>b'Georgia Invades South Ossetia - if Russia ge...</td>\n",
       "      <td>b'Al-Qaeda Faces Islamist Backlash'</td>\n",
       "      <td>b'Condoleezza Rice: \"The US would not act to p...</td>\n",
       "      <td>b'This is a busy day:  The European Union has ...</td>\n",
       "      <td>b\"Georgia will withdraw 1,000 soldiers from Ir...</td>\n",
       "      <td>b'Why the Pentagon Thinks Attacking Iran is a ...</td>\n",
       "      <td>b'Caucasus in crisis: Georgia invades South Os...</td>\n",
       "      <td>b'Indian shoe manufactory  - And again in a se...</td>\n",
       "      <td>b'Visitors Suffering from Mental Illnesses Ban...</td>\n",
       "      <td>b\"No Help for Mexico's Kidnapping Surge\"</td>\n",
       "    </tr>\n",
       "  </tbody>\n",
       "</table>\n",
       "<p>1 rows × 27 columns</p>\n",
       "</div>"
      ],
      "text/plain": [
       "        Date  Label                                               Top1  \\\n",
       "0 2008-08-08      0  b\"Georgia 'downs two Russian warplanes' as cou...   \n",
       "\n",
       "                                      Top2  \\\n",
       "0  b'BREAKING: Musharraf to be impeached.'   \n",
       "\n",
       "                                                Top3  \\\n",
       "0  b'Russia Today: Columns of troops roll into So...   \n",
       "\n",
       "                                                Top4  \\\n",
       "0  b'Russian tanks are moving towards the capital...   \n",
       "\n",
       "                                                Top5  \\\n",
       "0  b\"Afghan children raped with 'impunity,' U.N. ...   \n",
       "\n",
       "                                                Top6  \\\n",
       "0  b'150 Russian tanks have entered South Ossetia...   \n",
       "\n",
       "                                                Top7  \\\n",
       "0  b\"Breaking: Georgia invades South Ossetia, Rus...   \n",
       "\n",
       "                                                Top8  ...  \\\n",
       "0  b\"The 'enemy combatent' trials are nothing but...  ...   \n",
       "\n",
       "                                               Top16  \\\n",
       "0  b'Georgia Invades South Ossetia - if Russia ge...   \n",
       "\n",
       "                                 Top17  \\\n",
       "0  b'Al-Qaeda Faces Islamist Backlash'   \n",
       "\n",
       "                                               Top18  \\\n",
       "0  b'Condoleezza Rice: \"The US would not act to p...   \n",
       "\n",
       "                                               Top19  \\\n",
       "0  b'This is a busy day:  The European Union has ...   \n",
       "\n",
       "                                               Top20  \\\n",
       "0  b\"Georgia will withdraw 1,000 soldiers from Ir...   \n",
       "\n",
       "                                               Top21  \\\n",
       "0  b'Why the Pentagon Thinks Attacking Iran is a ...   \n",
       "\n",
       "                                               Top22  \\\n",
       "0  b'Caucasus in crisis: Georgia invades South Os...   \n",
       "\n",
       "                                               Top23  \\\n",
       "0  b'Indian shoe manufactory  - And again in a se...   \n",
       "\n",
       "                                               Top24  \\\n",
       "0  b'Visitors Suffering from Mental Illnesses Ban...   \n",
       "\n",
       "                                      Top25  \n",
       "0  b\"No Help for Mexico's Kidnapping Surge\"  \n",
       "\n",
       "[1 rows x 27 columns]"
      ]
     },
     "execution_count": 13,
     "metadata": {},
     "output_type": "execute_result"
    }
   ],
   "source": [
    "news_train = pd.read_csv('data/Combined_News_DJIA(train).csv')\n",
    "news_test = pd.read_csv('data/Combined_News_DJIA(test).csv')\n",
    "news_train['Date'] = pd.to_datetime(news_train['Date'])\n",
    "news_test['Date'] = pd.to_datetime(news_test['Date'], dayfirst=True)\n",
    "news_train.head(1)"
   ]
  },
  {
   "cell_type": "markdown",
   "id": "a603a669-3b7a-4262-bd73-0d9037cc4582",
   "metadata": {},
   "source": [
    "Чтобы выбрать новости, для которых есть данные котировок, таблицы с котировками и новостями соединяем по дате.   \n",
    "Помним, что в обучающей выборке были пропуски, поэтому заполним их нулями.   \n",
    "Сортируем по дате, оставляем только тексты, считаем среднее количество слов для токенайзера."
   ]
  },
  {
   "cell_type": "code",
   "execution_count": 102,
   "id": "8324aecd-00dd-4725-a35e-2e431ab00bf6",
   "metadata": {},
   "outputs": [
    {
     "data": {
      "text/plain": [
       "17.712420826623728"
      ]
     },
     "execution_count": 102,
     "metadata": {},
     "output_type": "execute_result"
    }
   ],
   "source": [
    "train = table_train[['Date', 'Open']].merge(news_train, on='Date', how='left')\n",
    "train = train.fillna(0)\n",
    "test = table_test[['Date', 'Open']].merge(news_test, on='Date', how='left')\n",
    "train, test = train.sort_values('Date'), test.sort_values('Date')\n",
    "train_text = train.drop(['Date', 'Open', 'Label'], axis=1).astype('str')\n",
    "test_text = test.drop(['Date', 'Open', 'Label'], axis=1).astype('str')\n",
    "train_text.map(lambda x: len(x.split())).mean().mean()"
   ]
  },
  {
   "cell_type": "markdown",
   "id": "6f11b369-e206-46c4-9a42-c8794bf7c786",
   "metadata": {},
   "source": [
    "Будем использовать модель Bert."
   ]
  },
  {
   "cell_type": "code",
   "execution_count": 104,
   "id": "84c847f3",
   "metadata": {},
   "outputs": [],
   "source": [
    "from transformers import BertTokenizer\n",
    "from transformers import BertModel  # https://huggingface.co/docs/transformers/model_doc/bert#transformers.BertModel\n",
    "\n",
    "tokenizer, model = BertTokenizer.from_pretrained('bert-base-cased'), BertModel.from_pretrained('bert-base-cased')\n",
    "device = torch.device('cuda:0' if torch.cuda.is_available() else 'cpu')\n",
    "model = model.to(device)\n",
    "\n",
    "train_text = train_text.to_numpy().flatten()\n",
    "test_text = test_text.to_numpy().flatten()\n",
    "\n",
    "tokens_train = tokenizer.batch_encode_plus(\n",
    "    list(train_text),\n",
    "    max_length = 18,\n",
    "    padding = 'max_length',\n",
    "    truncation = True, add_special_tokens=True, return_token_type_ids=False)\n",
    "tokens_test = tokenizer.batch_encode_plus(\n",
    "    list(test_text),\n",
    "    max_length = 18,\n",
    "    padding = 'max_length',\n",
    "    truncation = True, add_special_tokens=True, return_token_type_ids=False)"
   ]
  },
  {
   "cell_type": "markdown",
   "id": "23d59a3a-756b-4f84-b0bf-5d3eb7bae032",
   "metadata": {
    "execution": {
     "iopub.execute_input": "2024-08-04T13:52:15.805084Z",
     "iopub.status.busy": "2024-08-04T13:52:15.804203Z",
     "iopub.status.idle": "2024-08-04T13:52:16.033783Z",
     "shell.execute_reply": "2024-08-04T13:52:16.032627Z",
     "shell.execute_reply.started": "2024-08-04T13:52:15.805055Z"
    }
   },
   "source": [
    "Из тензоров создаем датасет и даталоадер."
   ]
  },
  {
   "cell_type": "code",
   "execution_count": 106,
   "id": "c9ec2335",
   "metadata": {},
   "outputs": [],
   "source": [
    "from torch.utils.data import TensorDataset, DataLoader, SequentialSampler\n",
    "\n",
    "train_seq = torch.tensor(tokens_train['input_ids'])\n",
    "train_mask = torch.tensor(tokens_train['attention_mask'])\n",
    "train_id = torch.tensor(np.array(range(train_text.shape[0])))\n",
    "train_data = TensorDataset(train_seq, train_mask, train_id)\n",
    "train_sampler = SequentialSampler(train_data)\n",
    "train_loader = DataLoader(train_data, sampler = train_sampler, batch_size = 32)\n",
    "\n",
    "test_seq = torch.tensor(tokens_test['input_ids'])\n",
    "test_mask = torch.tensor(tokens_test['attention_mask'])\n",
    "test_id = torch.tensor(np.array(range(test_text.shape[0])))\n",
    "test_data = TensorDataset(test_seq, test_mask, test_id)\n",
    "test_sampler = SequentialSampler(test_data)\n",
    "test_loader = DataLoader(test_data, sampler = test_sampler, batch_size = 32)"
   ]
  },
  {
   "cell_type": "markdown",
   "id": "ed9c1021-8fa1-430c-b55c-07dfcb551fc8",
   "metadata": {},
   "source": [
    "Получаем эмбеддинги от модели и сохраняем."
   ]
  },
  {
   "cell_type": "code",
   "execution_count": 108,
   "id": "fd6a28c7",
   "metadata": {},
   "outputs": [],
   "source": [
    "from tqdm import tqdm\n",
    "\n",
    "@torch.inference_mode()\n",
    "def get_embeddings(model, loader):\n",
    "    model.eval()\n",
    "    \n",
    "    total_embeddings = []\n",
    "    for batch in tqdm(loader):\n",
    "        embeddings = model(batch[0].to(device), batch[1].to(device))['last_hidden_state'][:, 0, :]\n",
    "        total_embeddings.append(embeddings.cpu())\n",
    "\n",
    "    return torch.cat(total_embeddings, dim=0)"
   ]
  },
  {
   "cell_type": "code",
   "execution_count": 110,
   "id": "20dd8d41",
   "metadata": {},
   "outputs": [
    {
     "name": "stderr",
     "output_type": "stream",
     "text": [
      "100%|██████████████████████████████████████████████████████████████████████████████| 1456/1456 [28:07<00:00,  1.16s/it]\n",
      "100%|██████████████████████████████████████████████████████████████████████████████████| 99/99 [01:30<00:00,  1.10it/s]\n"
     ]
    }
   ],
   "source": [
    "embeddings = get_embeddings(model, train_loader)\n",
    "torch.save(embeddings, 'train_embeddings.pt')\n",
    "embeddings = get_embeddings(model, test_loader)\n",
    "torch.save(embeddings, 'test_embeddings.pt')"
   ]
  },
  {
   "cell_type": "code",
   "execution_count": null,
   "id": "b0a38dbe",
   "metadata": {},
   "outputs": [],
   "source": []
  }
 ],
 "metadata": {
  "kaggle": {
   "accelerator": "nvidiaTeslaT4",
   "dataSources": [
    {
     "datasetId": 4613700,
     "sourceId": 7864446,
     "sourceType": "datasetVersion"
    },
    {
     "datasetId": 4627443,
     "sourceId": 7883566,
     "sourceType": "datasetVersion"
    },
    {
     "datasetId": 4627744,
     "sourceId": 7883963,
     "sourceType": "datasetVersion"
    }
   ],
   "dockerImageVersionId": 30733,
   "isGpuEnabled": true,
   "isInternetEnabled": true,
   "language": "python",
   "sourceType": "notebook"
  },
  "kernelspec": {
   "display_name": "Python 3 (ipykernel)",
   "language": "python",
   "name": "python3"
  },
  "language_info": {
   "codemirror_mode": {
    "name": "ipython",
    "version": 3
   },
   "file_extension": ".py",
   "mimetype": "text/x-python",
   "name": "python",
   "nbconvert_exporter": "python",
   "pygments_lexer": "ipython3",
   "version": "3.12.7"
  }
 },
 "nbformat": 4,
 "nbformat_minor": 5
}
