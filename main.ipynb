{
 "cells": [
  {
   "cell_type": "code",
   "execution_count": 23,
   "id": "a8bcc1b2-3673-4477-b00f-2ba901a53ffa",
   "metadata": {},
   "outputs": [],
   "source": [
    "import warnings\n",
    "warnings.filterwarnings('ignore')\n",
    "import pandas as pd\n",
    "import numpy as np"
   ]
  },
  {
   "cell_type": "markdown",
   "id": "25cd3fc4-ea44-4c32-a534-8ef0591a184e",
   "metadata": {},
   "source": [
    "Даны 6 таблиц, 3 для обучения и аналогичные 3 для теста.    \n",
    "Первая содержит данные биржи:   \n",
    "__Date__ - дата наблюдения,   \n",
    "__Open__ - индекс на момент открытия биржи,   \n",
    "__High__ - максимальный индекс за день,   \n",
    "__Low__ - минимальный индекс за день,   \n",
    "__Close__ - индекс на момент закрытия биржи (целевая переменная),   \n",
    "__Volume__ - количество сделок,   \n",
    "__Adj Close__ - скорректированный индекс закрытия.   \n"
   ]
  },
  {
   "cell_type": "code",
   "execution_count": 26,
   "id": "ad49d655-8cb2-4235-b843-0a9da20190d3",
   "metadata": {},
   "outputs": [
    {
     "name": "stdout",
     "output_type": "stream",
     "text": [
      "(1863, 7)\n",
      "(126, 5)\n"
     ]
    },
    {
     "data": {
      "text/html": [
       "<div>\n",
       "<style scoped>\n",
       "    .dataframe tbody tr th:only-of-type {\n",
       "        vertical-align: middle;\n",
       "    }\n",
       "\n",
       "    .dataframe tbody tr th {\n",
       "        vertical-align: top;\n",
       "    }\n",
       "\n",
       "    .dataframe thead th {\n",
       "        text-align: right;\n",
       "    }\n",
       "</style>\n",
       "<table border=\"1\" class=\"dataframe\">\n",
       "  <thead>\n",
       "    <tr style=\"text-align: right;\">\n",
       "      <th></th>\n",
       "      <th>Date</th>\n",
       "      <th>Open</th>\n",
       "      <th>High</th>\n",
       "      <th>Low</th>\n",
       "      <th>Close</th>\n",
       "      <th>Volume</th>\n",
       "      <th>Adj Close</th>\n",
       "    </tr>\n",
       "  </thead>\n",
       "  <tbody>\n",
       "    <tr>\n",
       "      <th>0</th>\n",
       "      <td>2015-12-31</td>\n",
       "      <td>17590.66016</td>\n",
       "      <td>17590.66016</td>\n",
       "      <td>17421.16016</td>\n",
       "      <td>17425.0293</td>\n",
       "      <td>93690000</td>\n",
       "      <td>17425.0293</td>\n",
       "    </tr>\n",
       "  </tbody>\n",
       "</table>\n",
       "</div>"
      ],
      "text/plain": [
       "        Date         Open         High          Low       Close    Volume  \\\n",
       "0 2015-12-31  17590.66016  17590.66016  17421.16016  17425.0293  93690000   \n",
       "\n",
       "    Adj Close  \n",
       "0  17425.0293  "
      ]
     },
     "execution_count": 26,
     "metadata": {},
     "output_type": "execute_result"
    }
   ],
   "source": [
    "table_train = pd.read_csv('data/DJIA_Table(train).csv')\n",
    "table_test = pd.read_csv('data/DJIA_Table(test).csv')\n",
    "table_train['Date'] = pd.to_datetime(table_train['Date'], dayfirst=True)\n",
    "table_test['Date'] = pd.to_datetime(table_test['Date'], dayfirst=True)\n",
    "print(table_train.shape)\n",
    "print(table_test.shape)\n",
    "table_train.head(1)"
   ]
  },
  {
   "cell_type": "markdown",
   "id": "5e7d8ab2-cd61-48b6-a719-c0ceb18f7b23",
   "metadata": {},
   "source": [
    "Вторая содержит топ 25 заголовков новостей на соответствующую дату. __Label__ принимает значение \"1\", когда значение __Adj Close__ увеличивается или остается неизменным, и \"0\", когда значение __Adj Close__ уменьшается."
   ]
  },
  {
   "cell_type": "code",
   "execution_count": 29,
   "id": "0466ed6e-7f29-47ea-8ffd-3d762de7a95c",
   "metadata": {},
   "outputs": [
    {
     "name": "stdout",
     "output_type": "stream",
     "text": [
      "(1989, 27)\n",
      "(126, 27)\n"
     ]
    },
    {
     "data": {
      "text/html": [
       "<div>\n",
       "<style scoped>\n",
       "    .dataframe tbody tr th:only-of-type {\n",
       "        vertical-align: middle;\n",
       "    }\n",
       "\n",
       "    .dataframe tbody tr th {\n",
       "        vertical-align: top;\n",
       "    }\n",
       "\n",
       "    .dataframe thead th {\n",
       "        text-align: right;\n",
       "    }\n",
       "</style>\n",
       "<table border=\"1\" class=\"dataframe\">\n",
       "  <thead>\n",
       "    <tr style=\"text-align: right;\">\n",
       "      <th></th>\n",
       "      <th>Date</th>\n",
       "      <th>Label</th>\n",
       "      <th>Top1</th>\n",
       "      <th>Top2</th>\n",
       "      <th>Top3</th>\n",
       "      <th>Top4</th>\n",
       "      <th>Top5</th>\n",
       "      <th>Top6</th>\n",
       "      <th>Top7</th>\n",
       "      <th>Top8</th>\n",
       "      <th>...</th>\n",
       "      <th>Top16</th>\n",
       "      <th>Top17</th>\n",
       "      <th>Top18</th>\n",
       "      <th>Top19</th>\n",
       "      <th>Top20</th>\n",
       "      <th>Top21</th>\n",
       "      <th>Top22</th>\n",
       "      <th>Top23</th>\n",
       "      <th>Top24</th>\n",
       "      <th>Top25</th>\n",
       "    </tr>\n",
       "  </thead>\n",
       "  <tbody>\n",
       "    <tr>\n",
       "      <th>0</th>\n",
       "      <td>2008-08-08</td>\n",
       "      <td>0</td>\n",
       "      <td>b\"Georgia 'downs two Russian warplanes' as cou...</td>\n",
       "      <td>b'BREAKING: Musharraf to be impeached.'</td>\n",
       "      <td>b'Russia Today: Columns of troops roll into So...</td>\n",
       "      <td>b'Russian tanks are moving towards the capital...</td>\n",
       "      <td>b\"Afghan children raped with 'impunity,' U.N. ...</td>\n",
       "      <td>b'150 Russian tanks have entered South Ossetia...</td>\n",
       "      <td>b\"Breaking: Georgia invades South Ossetia, Rus...</td>\n",
       "      <td>b\"The 'enemy combatent' trials are nothing but...</td>\n",
       "      <td>...</td>\n",
       "      <td>b'Georgia Invades South Ossetia - if Russia ge...</td>\n",
       "      <td>b'Al-Qaeda Faces Islamist Backlash'</td>\n",
       "      <td>b'Condoleezza Rice: \"The US would not act to p...</td>\n",
       "      <td>b'This is a busy day:  The European Union has ...</td>\n",
       "      <td>b\"Georgia will withdraw 1,000 soldiers from Ir...</td>\n",
       "      <td>b'Why the Pentagon Thinks Attacking Iran is a ...</td>\n",
       "      <td>b'Caucasus in crisis: Georgia invades South Os...</td>\n",
       "      <td>b'Indian shoe manufactory  - And again in a se...</td>\n",
       "      <td>b'Visitors Suffering from Mental Illnesses Ban...</td>\n",
       "      <td>b\"No Help for Mexico's Kidnapping Surge\"</td>\n",
       "    </tr>\n",
       "  </tbody>\n",
       "</table>\n",
       "<p>1 rows × 27 columns</p>\n",
       "</div>"
      ],
      "text/plain": [
       "        Date  Label                                               Top1  \\\n",
       "0 2008-08-08      0  b\"Georgia 'downs two Russian warplanes' as cou...   \n",
       "\n",
       "                                      Top2  \\\n",
       "0  b'BREAKING: Musharraf to be impeached.'   \n",
       "\n",
       "                                                Top3  \\\n",
       "0  b'Russia Today: Columns of troops roll into So...   \n",
       "\n",
       "                                                Top4  \\\n",
       "0  b'Russian tanks are moving towards the capital...   \n",
       "\n",
       "                                                Top5  \\\n",
       "0  b\"Afghan children raped with 'impunity,' U.N. ...   \n",
       "\n",
       "                                                Top6  \\\n",
       "0  b'150 Russian tanks have entered South Ossetia...   \n",
       "\n",
       "                                                Top7  \\\n",
       "0  b\"Breaking: Georgia invades South Ossetia, Rus...   \n",
       "\n",
       "                                                Top8  ...  \\\n",
       "0  b\"The 'enemy combatent' trials are nothing but...  ...   \n",
       "\n",
       "                                               Top16  \\\n",
       "0  b'Georgia Invades South Ossetia - if Russia ge...   \n",
       "\n",
       "                                 Top17  \\\n",
       "0  b'Al-Qaeda Faces Islamist Backlash'   \n",
       "\n",
       "                                               Top18  \\\n",
       "0  b'Condoleezza Rice: \"The US would not act to p...   \n",
       "\n",
       "                                               Top19  \\\n",
       "0  b'This is a busy day:  The European Union has ...   \n",
       "\n",
       "                                               Top20  \\\n",
       "0  b\"Georgia will withdraw 1,000 soldiers from Ir...   \n",
       "\n",
       "                                               Top21  \\\n",
       "0  b'Why the Pentagon Thinks Attacking Iran is a ...   \n",
       "\n",
       "                                               Top22  \\\n",
       "0  b'Caucasus in crisis: Georgia invades South Os...   \n",
       "\n",
       "                                               Top23  \\\n",
       "0  b'Indian shoe manufactory  - And again in a se...   \n",
       "\n",
       "                                               Top24  \\\n",
       "0  b'Visitors Suffering from Mental Illnesses Ban...   \n",
       "\n",
       "                                      Top25  \n",
       "0  b\"No Help for Mexico's Kidnapping Surge\"  \n",
       "\n",
       "[1 rows x 27 columns]"
      ]
     },
     "execution_count": 29,
     "metadata": {},
     "output_type": "execute_result"
    }
   ],
   "source": [
    "news_train = pd.read_csv('data/Combined_News_DJIA(train).csv')\n",
    "news_test = pd.read_csv('data/Combined_News_DJIA(test).csv')\n",
    "news_train['Date'] = pd.to_datetime(news_train['Date'])\n",
    "news_test['Date'] = pd.to_datetime(news_test['Date'], dayfirst=True)\n",
    "print(news_train.shape)\n",
    "print(news_test.shape)\n",
    "news_train.head(1)"
   ]
  },
  {
   "cell_type": "markdown",
   "id": "0733a268-bc3f-45eb-950f-98ea573b0cd0",
   "metadata": {},
   "source": [
    "В третьей таблице тоже заголовки новостей."
   ]
  },
  {
   "cell_type": "code",
   "execution_count": 32,
   "id": "d4da9166-20d8-47e0-802a-f54f5a45a797",
   "metadata": {
    "scrolled": true
   },
   "outputs": [
    {
     "name": "stdout",
     "output_type": "stream",
     "text": [
      "(73608, 2)\n",
      "(4551, 2)\n"
     ]
    },
    {
     "data": {
      "text/html": [
       "<div>\n",
       "<style scoped>\n",
       "    .dataframe tbody tr th:only-of-type {\n",
       "        vertical-align: middle;\n",
       "    }\n",
       "\n",
       "    .dataframe tbody tr th {\n",
       "        vertical-align: top;\n",
       "    }\n",
       "\n",
       "    .dataframe thead th {\n",
       "        text-align: right;\n",
       "    }\n",
       "</style>\n",
       "<table border=\"1\" class=\"dataframe\">\n",
       "  <thead>\n",
       "    <tr style=\"text-align: right;\">\n",
       "      <th></th>\n",
       "      <th>Date</th>\n",
       "      <th>News</th>\n",
       "    </tr>\n",
       "  </thead>\n",
       "  <tbody>\n",
       "    <tr>\n",
       "      <th>0</th>\n",
       "      <td>2016-07-01</td>\n",
       "      <td>A 117-year-old woman in Mexico City finally re...</td>\n",
       "    </tr>\n",
       "  </tbody>\n",
       "</table>\n",
       "</div>"
      ],
      "text/plain": [
       "        Date                                               News\n",
       "0 2016-07-01  A 117-year-old woman in Mexico City finally re..."
      ]
     },
     "execution_count": 32,
     "metadata": {},
     "output_type": "execute_result"
    }
   ],
   "source": [
    "reddit_train = pd.read_csv('data/Reddit_News(train).csv')\n",
    "reddit_test = pd.read_csv('data/Reddit_News(test).csv')\n",
    "reddit_train['Date'] = pd.to_datetime(reddit_train['Date'])\n",
    "reddit_test['Date'] = pd.to_datetime(reddit_test['Date'])\n",
    "print(reddit_train.shape)\n",
    "print(reddit_test.shape)\n",
    "reddit_train.head(1)"
   ]
  },
  {
   "cell_type": "markdown",
   "id": "c24b6649-20a8-4935-9d3b-5bd9ba82258a",
   "metadata": {},
   "source": [
    "Начнем с первой таблицы. Колонка __Adj Close__ дублирует колонку __Close__, поэтому ее можно будет убрать."
   ]
  },
  {
   "cell_type": "code",
   "execution_count": 13,
   "id": "e3a468dc-7ec1-4abc-87a7-875dd0345a94",
   "metadata": {},
   "outputs": [
    {
     "data": {
      "text/html": [
       "<div>\n",
       "<style scoped>\n",
       "    .dataframe tbody tr th:only-of-type {\n",
       "        vertical-align: middle;\n",
       "    }\n",
       "\n",
       "    .dataframe tbody tr th {\n",
       "        vertical-align: top;\n",
       "    }\n",
       "\n",
       "    .dataframe thead th {\n",
       "        text-align: right;\n",
       "    }\n",
       "</style>\n",
       "<table border=\"1\" class=\"dataframe\">\n",
       "  <thead>\n",
       "    <tr style=\"text-align: right;\">\n",
       "      <th></th>\n",
       "      <th>Date</th>\n",
       "      <th>Open</th>\n",
       "      <th>High</th>\n",
       "      <th>Low</th>\n",
       "      <th>Close</th>\n",
       "      <th>Volume</th>\n",
       "      <th>Adj Close</th>\n",
       "    </tr>\n",
       "  </thead>\n",
       "  <tbody>\n",
       "  </tbody>\n",
       "</table>\n",
       "</div>"
      ],
      "text/plain": [
       "Empty DataFrame\n",
       "Columns: [Date, Open, High, Low, Close, Volume, Adj Close]\n",
       "Index: []"
      ]
     },
     "execution_count": 13,
     "metadata": {},
     "output_type": "execute_result"
    }
   ],
   "source": [
    "table_train[table_train['Close'] != table_train['Adj Close']]"
   ]
  },
  {
   "cell_type": "markdown",
   "id": "0b8f069d-5e36-4092-ab7b-28a32b9c571d",
   "metadata": {},
   "source": [
    "Поскольку значения колонок __Open__, __High__, __Low__ похожи, они будут коррелировать, что может сказаться на качестве обучения модели.   \n",
    "Вычтем из колонок __High__ и __Low__ колонку __Open__ и сложим результаты. Получим разницу значений, на которую увеличивался и уменьшался индекс за день.   \n",
    "Назовем колонку __Diff__."
   ]
  },
  {
   "cell_type": "code",
   "execution_count": 16,
   "id": "7fb3c1a8-157b-4297-817c-8fa4bd0cb190",
   "metadata": {
    "scrolled": true
   },
   "outputs": [
    {
     "data": {
      "text/html": [
       "<div>\n",
       "<style scoped>\n",
       "    .dataframe tbody tr th:only-of-type {\n",
       "        vertical-align: middle;\n",
       "    }\n",
       "\n",
       "    .dataframe tbody tr th {\n",
       "        vertical-align: top;\n",
       "    }\n",
       "\n",
       "    .dataframe thead th {\n",
       "        text-align: right;\n",
       "    }\n",
       "</style>\n",
       "<table border=\"1\" class=\"dataframe\">\n",
       "  <thead>\n",
       "    <tr style=\"text-align: right;\">\n",
       "      <th></th>\n",
       "      <th>Date</th>\n",
       "      <th>Open</th>\n",
       "      <th>Close</th>\n",
       "      <th>Volume</th>\n",
       "      <th>Diff</th>\n",
       "    </tr>\n",
       "  </thead>\n",
       "  <tbody>\n",
       "    <tr>\n",
       "      <th>0</th>\n",
       "      <td>2015-12-31</td>\n",
       "      <td>17590.66016</td>\n",
       "      <td>17425.02930</td>\n",
       "      <td>93690000</td>\n",
       "      <td>-169.50000</td>\n",
       "    </tr>\n",
       "    <tr>\n",
       "      <th>1</th>\n",
       "      <td>2015-12-30</td>\n",
       "      <td>17711.93945</td>\n",
       "      <td>17603.86914</td>\n",
       "      <td>59760000</td>\n",
       "      <td>-120.87890</td>\n",
       "    </tr>\n",
       "    <tr>\n",
       "      <th>2</th>\n",
       "      <td>2015-12-29</td>\n",
       "      <td>17547.36914</td>\n",
       "      <td>17720.98047</td>\n",
       "      <td>69860000</td>\n",
       "      <td>202.65039</td>\n",
       "    </tr>\n",
       "    <tr>\n",
       "      <th>3</th>\n",
       "      <td>2015-12-28</td>\n",
       "      <td>17535.66016</td>\n",
       "      <td>17528.26953</td>\n",
       "      <td>59770000</td>\n",
       "      <td>-97.08009</td>\n",
       "    </tr>\n",
       "    <tr>\n",
       "      <th>4</th>\n",
       "      <td>2015-12-24</td>\n",
       "      <td>17593.25977</td>\n",
       "      <td>17552.16992</td>\n",
       "      <td>40350000</td>\n",
       "      <td>-36.23048</td>\n",
       "    </tr>\n",
       "  </tbody>\n",
       "</table>\n",
       "</div>"
      ],
      "text/plain": [
       "        Date         Open        Close    Volume       Diff\n",
       "0 2015-12-31  17590.66016  17425.02930  93690000 -169.50000\n",
       "1 2015-12-30  17711.93945  17603.86914  59760000 -120.87890\n",
       "2 2015-12-29  17547.36914  17720.98047  69860000  202.65039\n",
       "3 2015-12-28  17535.66016  17528.26953  59770000  -97.08009\n",
       "4 2015-12-24  17593.25977  17552.16992  40350000  -36.23048"
      ]
     },
     "execution_count": 16,
     "metadata": {},
     "output_type": "execute_result"
    }
   ],
   "source": [
    "table_train['High'] = table_train['High'] - table_train['Open']\n",
    "table_train['Low'] = table_train['Low'] - table_train['Open']\n",
    "table_train['Diff'] = table_train['High'] + table_train['Low']\n",
    "table_train = table_train.drop(['Adj Close', 'High', 'Low'], axis=1)\n",
    "table_test['High'] = table_test['High'] - table_test['Open']\n",
    "table_test['Low'] = table_test['Low'] - table_test['Open']\n",
    "table_test['Diff'] = table_test['High'] + table_test['Low']\n",
    "table_test = table_test.drop([ 'High', 'Low'], axis=1)\n",
    "table_train.head()"
   ]
  },
  {
   "cell_type": "markdown",
   "id": "24105793-fffd-436b-a799-d09f605b490f",
   "metadata": {},
   "source": [
    "Посмотрим на карту корреляции."
   ]
  },
  {
   "cell_type": "code",
   "execution_count": 19,
   "id": "85318d42-9a88-4547-9638-8aa1f708b6e6",
   "metadata": {},
   "outputs": [
    {
     "data": {
      "text/plain": [
       "<Axes: >"
      ]
     },
     "execution_count": 19,
     "metadata": {},
     "output_type": "execute_result"
    },
    {
     "data": {
      "image/png": "[encoded data removed]",
      "text/plain": [
       "<Figure size 640x480 with 2 Axes>"
      ]
     },
     "metadata": {},
     "output_type": "display_data"
    }
   ],
   "source": [
    "import seaborn as sns\n",
    "\n",
    "sns.heatmap(table_train.corr(method='spearman'))"
   ]
  },
  {
   "cell_type": "code",
   "execution_count": 20,
   "id": "e6cc88f2-78f1-41c4-958b-4b1258a3975e",
   "metadata": {},
   "outputs": [
    {
     "data": {
      "text/html": [
       "<div>\n",
       "<style scoped>\n",
       "    .dataframe tbody tr th:only-of-type {\n",
       "        vertical-align: middle;\n",
       "    }\n",
       "\n",
       "    .dataframe tbody tr th {\n",
       "        vertical-align: top;\n",
       "    }\n",
       "\n",
       "    .dataframe thead th {\n",
       "        text-align: right;\n",
       "    }\n",
       "</style>\n",
       "<table border=\"1\" class=\"dataframe\">\n",
       "  <thead>\n",
       "    <tr style=\"text-align: right;\">\n",
       "      <th></th>\n",
       "      <th>Date</th>\n",
       "      <th>Open</th>\n",
       "      <th>Close</th>\n",
       "      <th>Volume</th>\n",
       "      <th>Diff</th>\n",
       "    </tr>\n",
       "  </thead>\n",
       "  <tbody>\n",
       "    <tr>\n",
       "      <th>Date</th>\n",
       "      <td>NaN</td>\n",
       "      <td>0.967654</td>\n",
       "      <td>0.967964</td>\n",
       "      <td>-0.777282</td>\n",
       "      <td>NaN</td>\n",
       "    </tr>\n",
       "    <tr>\n",
       "      <th>Open</th>\n",
       "      <td>0.967654</td>\n",
       "      <td>NaN</td>\n",
       "      <td>0.998521</td>\n",
       "      <td>-0.804598</td>\n",
       "      <td>NaN</td>\n",
       "    </tr>\n",
       "    <tr>\n",
       "      <th>Close</th>\n",
       "      <td>0.967964</td>\n",
       "      <td>0.998521</td>\n",
       "      <td>NaN</td>\n",
       "      <td>-0.807224</td>\n",
       "      <td>NaN</td>\n",
       "    </tr>\n",
       "    <tr>\n",
       "      <th>Volume</th>\n",
       "      <td>-0.777282</td>\n",
       "      <td>-0.804598</td>\n",
       "      <td>-0.807224</td>\n",
       "      <td>NaN</td>\n",
       "      <td>NaN</td>\n",
       "    </tr>\n",
       "  </tbody>\n",
       "</table>\n",
       "</div>"
      ],
      "text/plain": [
       "            Date      Open     Close    Volume  Diff\n",
       "Date         NaN  0.967654  0.967964 -0.777282   NaN\n",
       "Open    0.967654       NaN  0.998521 -0.804598   NaN\n",
       "Close   0.967964  0.998521       NaN -0.807224   NaN\n",
       "Volume -0.777282 -0.804598 -0.807224       NaN   NaN"
      ]
     },
     "execution_count": 20,
     "metadata": {},
     "output_type": "execute_result"
    }
   ],
   "source": [
    "cor = table_train.corr(method='spearman')\n",
    "cor[((cor > 0.5) | (cor < -0.5)) & (cor != 1)].dropna(how='all')"
   ]
  },
  {
   "cell_type": "markdown",
   "id": "30aaeacd-affd-4530-9575-f3f8b43f2c65",
   "metadata": {},
   "source": [
    "Стоит убрать колонку __Volume__, поскольку она сильно коррелирует с колонкой __Open__, а на целевую __Close__ оказывает меньшее влияние.   \n",
    "Поскольку даны две таблицы с текстами, проверим их на похожесть."
   ]
  },
  {
   "cell_type": "code",
   "execution_count": 24,
   "id": "ddaf795f-44f6-4d90-8e77-d8711d9e401c",
   "metadata": {},
   "outputs": [
    {
     "data": {
      "text/plain": [
       "Top25    3\n",
       "Top24    3\n",
       "Top23    1\n",
       "Open     0\n",
       "Top22    0\n",
       "dtype: int64"
      ]
     },
     "execution_count": 24,
     "metadata": {},
     "output_type": "execute_result"
    }
   ],
   "source": [
    "table_news = table_train[['Date', 'Open']].merge(news_train, on='Date', how='left')\n",
    "table_news.isna().sum().sort_values(ascending=False).head()"
   ]
  },
  {
   "cell_type": "code",
   "execution_count": 26,
   "id": "a9cc50cf-648b-4727-8923-f394ad79bc92",
   "metadata": {},
   "outputs": [
    {
     "data": {
      "text/plain": [
       "Date    0\n",
       "Open    0\n",
       "News    0\n",
       "dtype: int64"
      ]
     },
     "execution_count": 26,
     "metadata": {},
     "output_type": "execute_result"
    }
   ],
   "source": [
    "table_reddit = table_train[['Date', 'Open']].merge(reddit_train, on='Date', how='left')\n",
    "table_reddit.isna().sum().sort_values(ascending=False).head() "
   ]
  },
  {
   "cell_type": "code",
   "execution_count": 28,
   "id": "8fe1551c-25d6-4b3b-8161-38613d16a581",
   "metadata": {},
   "outputs": [
    {
     "name": "stdout",
     "output_type": "stream",
     "text": [
      "(46575,)\n",
      "(46568, 3)\n"
     ]
    }
   ],
   "source": [
    "top_train = table_news.drop(['Date', 'Label', 'Open'], axis=1)\n",
    "top_train = top_train.to_numpy().flatten()\n",
    "top_train = pd.Series(top_train)\n",
    "print(top_train.shape)\n",
    "print(table_reddit.shape)"
   ]
  },
  {
   "cell_type": "markdown",
   "id": "9dbb3923-3fbd-49e2-a1fe-a75bf6343528",
   "metadata": {},
   "source": [
    "У обоих таблиц пропущенных дат нет, только 7 пропущенных новостей. Если не считать эти пропуски, количество новостей одинаковое."
   ]
  },
  {
   "cell_type": "code",
   "execution_count": 31,
   "id": "debc4f8e-7972-4cad-a520-39f7f7f256bd",
   "metadata": {},
   "outputs": [
    {
     "data": {
      "text/html": [
       "<div>\n",
       "<style scoped>\n",
       "    .dataframe tbody tr th:only-of-type {\n",
       "        vertical-align: middle;\n",
       "    }\n",
       "\n",
       "    .dataframe tbody tr th {\n",
       "        vertical-align: top;\n",
       "    }\n",
       "\n",
       "    .dataframe thead th {\n",
       "        text-align: right;\n",
       "    }\n",
       "</style>\n",
       "<table border=\"1\" class=\"dataframe\">\n",
       "  <thead>\n",
       "    <tr style=\"text-align: right;\">\n",
       "      <th></th>\n",
       "      <th>Date</th>\n",
       "      <th>Open</th>\n",
       "      <th>News</th>\n",
       "    </tr>\n",
       "  </thead>\n",
       "  <tbody>\n",
       "  </tbody>\n",
       "</table>\n",
       "</div>"
      ],
      "text/plain": [
       "Empty DataFrame\n",
       "Columns: [Date, Open, News]\n",
       "Index: []"
      ]
     },
     "execution_count": 31,
     "metadata": {},
     "output_type": "execute_result"
    }
   ],
   "source": [
    "def conv_str(s):\n",
    "    f = filter(str.isalpha, s)\n",
    "    return \"\".join(f).lower()\n",
    "\n",
    "table_reddit['News'] = table_reddit['News'].astype('str').map(conv_str)\n",
    "top_train = top_train.astype('str').map(conv_str)\n",
    "table_reddit[~table_reddit['News'].isin(top_train)]"
   ]
  },
  {
   "cell_type": "markdown",
   "id": "3aadf881-d8e0-4578-a197-f07e24c56dc5",
   "metadata": {},
   "source": [
    "Сами тексты тоже совпадают."
   ]
  },
  {
   "cell_type": "code",
   "execution_count": 34,
   "id": "719eb25e-7a75-4aae-9726-1e2395f0b5bf",
   "metadata": {},
   "outputs": [
    {
     "data": {
      "text/plain": [
       "Date     0\n",
       "Open     0\n",
       "Top24    0\n",
       "Top23    0\n",
       "Top22    0\n",
       "dtype: int64"
      ]
     },
     "execution_count": 34,
     "metadata": {},
     "output_type": "execute_result"
    }
   ],
   "source": [
    "table_news = table_test[['Date', 'Open']].merge(news_test, on='Date', how='left')\n",
    "table_news.isna().sum().sort_values(ascending=False).head()"
   ]
  },
  {
   "cell_type": "code",
   "execution_count": 36,
   "id": "e0d6da40-634a-481e-be34-9416ce17ff2a",
   "metadata": {},
   "outputs": [
    {
     "data": {
      "text/plain": [
       "Date    0\n",
       "Open    0\n",
       "News    0\n",
       "dtype: int64"
      ]
     },
     "execution_count": 36,
     "metadata": {},
     "output_type": "execute_result"
    }
   ],
   "source": [
    "table_reddit = table_test[['Date', 'Open']].merge(reddit_test, on='Date', how='left')\n",
    "table_reddit.isna().sum().sort_values(ascending=False).head() "
   ]
  },
  {
   "cell_type": "code",
   "execution_count": 38,
   "id": "c9e3a9c7-2bd4-4adf-b9cf-5c7c3be7c7ae",
   "metadata": {},
   "outputs": [
    {
     "name": "stdout",
     "output_type": "stream",
     "text": [
      "(3150,)\n",
      "(3150, 3)\n"
     ]
    }
   ],
   "source": [
    "top_train = table_news.drop(['Date', 'Label', 'Open'], axis=1)\n",
    "top_train = top_train.to_numpy().flatten()\n",
    "top_train = pd.Series(top_train)\n",
    "print(top_train.shape)\n",
    "print(table_reddit.shape)"
   ]
  },
  {
   "cell_type": "code",
   "execution_count": 40,
   "id": "7d4e8c48-82b9-4534-87b5-3623074a4a93",
   "metadata": {},
   "outputs": [
    {
     "data": {
      "text/html": [
       "<div>\n",
       "<style scoped>\n",
       "    .dataframe tbody tr th:only-of-type {\n",
       "        vertical-align: middle;\n",
       "    }\n",
       "\n",
       "    .dataframe tbody tr th {\n",
       "        vertical-align: top;\n",
       "    }\n",
       "\n",
       "    .dataframe thead th {\n",
       "        text-align: right;\n",
       "    }\n",
       "</style>\n",
       "<table border=\"1\" class=\"dataframe\">\n",
       "  <thead>\n",
       "    <tr style=\"text-align: right;\">\n",
       "      <th></th>\n",
       "      <th>Date</th>\n",
       "      <th>Open</th>\n",
       "      <th>News</th>\n",
       "    </tr>\n",
       "  </thead>\n",
       "  <tbody>\n",
       "  </tbody>\n",
       "</table>\n",
       "</div>"
      ],
      "text/plain": [
       "Empty DataFrame\n",
       "Columns: [Date, Open, News]\n",
       "Index: []"
      ]
     },
     "execution_count": 40,
     "metadata": {},
     "output_type": "execute_result"
    }
   ],
   "source": [
    "table_reddit['News'] = table_reddit['News'].astype('str').map(conv_str)\n",
    "top_train = top_train.astype('str').map(conv_str)\n",
    "table_reddit[~table_reddit['News'].isin(top_train)]"
   ]
  },
  {
   "cell_type": "markdown",
   "id": "73534191-a8ec-4ea6-b8dd-365d5d173a0b",
   "metadata": {},
   "source": [
    "В тестовых данных все совпало.   \n",
    "В отдельном блокноте __text_to_embeddings__ переведем тексты в эмбеддинги.   \n",
    "Загрузим их и центрируем."
   ]
  },
  {
   "cell_type": "code",
   "execution_count": 43,
   "id": "95aaaffe-41b4-4e6a-ab8f-b34efa8460e2",
   "metadata": {},
   "outputs": [],
   "source": [
    "import torch\n",
    "\n",
    "train_embeddings = torch.load('train_embeddings.pt').numpy()\n",
    "test_embeddings = torch.load('test_embeddings.pt').numpy()\n",
    "train_center = train_embeddings - train_embeddings.mean()\n",
    "test_center = test_embeddings - test_embeddings.mean()"
   ]
  },
  {
   "cell_type": "markdown",
   "id": "26570c60-40b8-436e-877b-8d253adee74f",
   "metadata": {},
   "source": [
    "В качестве модели будем использовать сеть с LSTM, так как она хорошо справляется с прогнозированием временных рядов.    \n",
    "Добавим из текстовой таблицы колонку __Label__, сортируем наблюдения по дате, делим на __X__ и __y__, убираем лишние колонки."
   ]
  },
  {
   "cell_type": "code",
   "execution_count": 46,
   "id": "2b0ac875-89f9-4862-8fee-d964776a169f",
   "metadata": {},
   "outputs": [],
   "source": [
    "X = table_train.merge(news_train[['Date', 'Label']], on='Date', how='left')\n",
    "X = X.sort_values('Date')\n",
    "y = X['Close'].astype('float32')\n",
    "X = X.drop(['Date', 'Close', 'Volume'] , axis=1).astype('float32')\n",
    "X_sub = table_test.merge(news_test[['Date', 'Label']], on='Date', how='left')\n",
    "X_sub = X_sub.sort_values('Date')\n",
    "X_sub = X_sub.drop(['Date', 'Volume'] , axis=1).astype('float32')"
   ]
  },
  {
   "cell_type": "markdown",
   "id": "bfa2a989-b7b7-4e72-a363-439a08b61e3b",
   "metadata": {},
   "source": [
    "Поскольку имеем дело со значениями разного порядка, нужно отмасштабировать данные.   \n",
    "Чтобы определиться с методом, посмотрим на распределение величин."
   ]
  },
  {
   "cell_type": "code",
   "execution_count": 49,
   "id": "1139780c-4e1a-499c-88e3-41f80fac82b9",
   "metadata": {},
   "outputs": [
    {
     "data": {
      "image/png": "[encoded data removed]",
      "text/plain": [
       "<Figure size 1500x500 with 3 Axes>"
      ]
     },
     "metadata": {},
     "output_type": "display_data"
    }
   ],
   "source": [
    "from matplotlib import pyplot as plt\n",
    "\n",
    "fig, axs = plt.subplots(1, 3, figsize=(15, 5))\n",
    "for j in range(3):\n",
    "    table_train.drop(['Date', 'Volume'], axis=1).hist(bins=50, ax=axs)    "
   ]
  },
  {
   "cell_type": "markdown",
   "id": "54eb8b91-9354-4f90-9366-6931c7a46f19",
   "metadata": {},
   "source": [
    "Две величины из трех распределены ненормально, поэтому будем использовать нормализацию.   \n",
    "Эмбеддинги обработаем с помощью PCA и KMeans.   \n",
    "От обучающей выборки возьмем 20% для валидации."
   ]
  },
  {
   "cell_type": "code",
   "execution_count": 52,
   "id": "f498393f-a7d4-4fec-bb94-4d6ef92d2f5b",
   "metadata": {
    "scrolled": true
   },
   "outputs": [
    {
     "name": "stderr",
     "output_type": "stream",
     "text": [
      "  File \"C:\\ProgramData\\anaconda3\\Lib\\site-packages\\joblib\\externals\\loky\\backend\\context.py\", line 257, in _count_physical_cores\n",
      "    cpu_info = subprocess.run(\n",
      "               ^^^^^^^^^^^^^^^\n",
      "  File \"C:\\ProgramData\\anaconda3\\Lib\\subprocess.py\", line 548, in run\n",
      "    with Popen(*popenargs, **kwargs) as process:\n",
      "         ^^^^^^^^^^^^^^^^^^^^^^^^^^^\n",
      "  File \"C:\\ProgramData\\anaconda3\\Lib\\subprocess.py\", line 1026, in __init__\n",
      "    self._execute_child(args, executable, preexec_fn, close_fds,\n",
      "  File \"C:\\ProgramData\\anaconda3\\Lib\\subprocess.py\", line 1538, in _execute_child\n",
      "    hp, ht, pid, tid = _winapi.CreateProcess(executable, args,\n",
      "                       ^^^^^^^^^^^^^^^^^^^^^^^^^^^^^^^^^^^^^^^\n"
     ]
    },
    {
     "data": {
      "text/plain": [
       "(1490, 33)"
      ]
     },
     "execution_count": 52,
     "metadata": {},
     "output_type": "execute_result"
    }
   ],
   "source": [
    "from sklearn.preprocessing import MinMaxScaler\n",
    "from sklearn.decomposition import PCA\n",
    "from sklearn.cluster import KMeans\n",
    "\n",
    "seq_len = 10 # размер последовательности в LSTM\n",
    "val_size = round(X.shape[0] * 0.2) # размер валидационной выборки\n",
    "trn_size = X.shape[0] - val_size # размер обучающей выборки\n",
    "X_sc, y_sc = MinMaxScaler(), MinMaxScaler()\n",
    "pca_50 = PCA(n_components=50)\n",
    "pca_train = pca_50.fit_transform(train_center[:-val_size*25])\n",
    "pca_valid = pca_50.transform(train_center[-val_size*25-seq_len*25+1*25:])\n",
    "pca_test = pca_50.transform(test_center)\n",
    "clust = 5 # количество кластеров\n",
    "news = 5 # количество новостей на дату, которые будем брать, первые новости должны быть самые значимые.\n",
    "kmeans = KMeans(n_clusters=clust)\n",
    "kmeans.fit(pca_train)\n",
    "kmeans_train = np.hstack((kmeans.labels_.reshape(-1, 1),\n",
    "                          kmeans.transform(pca_train)\n",
    "                         )).reshape(trn_size, 25, clust+1)\n",
    "X_train = np.hstack((X_sc.fit_transform(np.array(X[['Open', 'Diff']])[:-val_size]),\n",
    "                       np.array(X[['Label']])[:-val_size],\n",
    "                     kmeans_train[:, :news, :].reshape(trn_size, news*(clust+1))\n",
    "                    ))\n",
    "kmeans_valid = np.hstack((kmeans.predict(pca_valid).reshape(-1, 1),\n",
    "                          kmeans.transform(pca_valid)\n",
    "                         )).reshape(val_size+seq_len-1, 25, clust+1)\n",
    "X_valid = np.hstack((X_sc.transform(np.array(X[['Open', 'Diff']])[-val_size-seq_len+1:]),\n",
    "                       np.array(X[['Label']])[-val_size-seq_len+1:],\n",
    "                     kmeans_valid[:, :news, :].reshape(val_size+seq_len-1, news*(clust+1))\n",
    "                    ))\n",
    "kmeans_test = np.hstack((kmeans.predict(pca_test).reshape(-1, 1),\n",
    "                         kmeans.transform(pca_test)\n",
    "                        )).reshape(X_sub.shape[0], 25, clust+1)\n",
    "X_test = np.hstack((X_sc.transform(np.array(X_sub[['Open', 'Diff']])),\n",
    "                       np.array(X_sub[['Label']]),\n",
    "                     kmeans_test[:, :news, :].reshape(X_sub.shape[0], news*(clust+1))\n",
    "                    ))\n",
    "X_test = np.vstack((X_valid[-seq_len+1:], X_test))\n",
    "y_train = y_sc.fit_transform(np.array(y)[seq_len-1:-val_size].reshape(-1, 1)).reshape(-1)\n",
    "y_valid = y_sc.transform(np.array(y)[-val_size:].reshape(-1, 1)).reshape(-1)\n",
    "\n",
    "X_train.shape"
   ]
  },
  {
   "cell_type": "markdown",
   "id": "0aa6a6c3-2c85-46d5-922d-9e8645d64e14",
   "metadata": {},
   "source": [
    "Формируем датасеты и лоадеры."
   ]
  },
  {
   "cell_type": "code",
   "execution_count": 55,
   "id": "5d66130b-38ef-4f17-8d3c-fcaa2ff42909",
   "metadata": {},
   "outputs": [],
   "source": [
    "from torch.utils.data import Dataset, TensorDataset, DataLoader, SequentialSampler\n",
    "\n",
    "def create_dataset(X, y=None):\n",
    "    seq_feat, seq_label = [], []\n",
    "    size_data = X.shape[0]-seq_len+1\n",
    "    for i in range(size_data):\n",
    "        seq_feat.append(X[i:i+seq_len])\n",
    "        if y is not None:\n",
    "            seq_label.append(y[i:i+1])\n",
    "    feat = np.concatenate(seq_feat).reshape(size_data, seq_len, X.shape[1])\n",
    "    if y is not None:\n",
    "        label = np.concatenate(seq_label)\n",
    "        dataset = TensorDataset(torch.FloatTensor(feat), torch.FloatTensor(label))\n",
    "    else:\n",
    "        dataset = TensorDataset(torch.FloatTensor(feat))\n",
    "    return dataset\n",
    "\n",
    "train_dataset = create_dataset(X_train, y_train)\n",
    "valid_dataset = create_dataset(X_valid, y_valid)\n",
    "test_dataset = create_dataset(X_test)\n",
    "\n",
    "train_sampler = SequentialSampler(train_dataset)\n",
    "train_loader = DataLoader(train_dataset, sampler = train_sampler, batch_size = 16)\n",
    "valid_sampler = SequentialSampler(valid_dataset)\n",
    "valid_loader = DataLoader(valid_dataset, sampler = valid_sampler, batch_size = 16)\n",
    "test_sampler = SequentialSampler(test_dataset)\n",
    "test_loader = DataLoader(test_dataset, sampler = test_sampler, batch_size = 16)"
   ]
  },
  {
   "cell_type": "markdown",
   "id": "2ef536e6-4317-48ad-af41-5b8b996e1622",
   "metadata": {},
   "source": [
    "Напишем класс нейросети и функции для ее."
   ]
  },
  {
   "cell_type": "code",
   "execution_count": 58,
   "id": "f1f0a97b-a852-410d-86c2-9096282cf57b",
   "metadata": {},
   "outputs": [],
   "source": [
    "from torch import nn\n",
    "\n",
    "class Model(nn.Module):\n",
    "    def __init__(self):\n",
    "        super().__init__()\n",
    "\n",
    "        self.lstm1 = nn.LSTM(33, 1024, dropout=0.3, batch_first=True)\n",
    "        self.lstm2 = nn.LSTM(1024, 512, dropout=0.3, batch_first=True)\n",
    "        self.lstm3 = nn.LSTM(512, 256, dropout=0.3, batch_first=True)\n",
    "\n",
    "        self.linear = nn.Sequential(\n",
    "            nn.Linear(256, 64),\n",
    "            nn.Tanh(),\n",
    "            nn.Linear(64, 16),\n",
    "            nn.Tanh(),\n",
    "            nn.Linear(16, 1)\n",
    ")\n",
    "\n",
    "    def forward(self, x):\n",
    "        x, _ = self.lstm1(x)\n",
    "        x, _ = self.lstm2(x)\n",
    "        x, _ = self.lstm3(x)\n",
    "        x = self.linear(x[:, -1, :])\n",
    "        return x"
   ]
  },
  {
   "cell_type": "code",
   "execution_count": 60,
   "id": "46b38d2d-9c87-4b96-bdc3-b68c03968d6c",
   "metadata": {},
   "outputs": [],
   "source": [
    "from tqdm import tqdm\n",
    "\n",
    "def train(model):\n",
    "    model.train()\n",
    "\n",
    "    train_loss = 0\n",
    "    for x, y in tqdm(train_loader, desc='Train'):\n",
    "        x, y = x.to(device), y.to(device)\n",
    "\n",
    "        optimizer.zero_grad()\n",
    "        \n",
    "        output = model(x) #.squeeze(1)\n",
    "\n",
    "        loss = loss_fn(output, y) #y.float()\n",
    "\n",
    "        train_loss += loss.item()\n",
    "\n",
    "        loss.backward()\n",
    "\n",
    "        optimizer.step()\n",
    "\n",
    "    train_loss /= len(train_loader)\n",
    "\n",
    "    return train_loss"
   ]
  },
  {
   "cell_type": "code",
   "execution_count": 62,
   "id": "7e1ac08d-72f1-49a1-b226-a1b19d5ffb1e",
   "metadata": {},
   "outputs": [],
   "source": [
    "@torch.inference_mode()\n",
    "def evaluate(model, loader):\n",
    "    model.eval()\n",
    "\n",
    "    total_loss = 0\n",
    "\n",
    "    for x, y in tqdm(loader, desc='Evaluation'):\n",
    "        x, y = x.to(device), y.to(device)\n",
    "        \n",
    "        output = model(x) #.squeeze(1)\n",
    "\n",
    "        loss = loss_fn(output, y) #y.float()\n",
    "\n",
    "        total_loss += loss.item()\n",
    "\n",
    "    total_loss /= len(loader)\n",
    "\n",
    "    return total_loss"
   ]
  },
  {
   "cell_type": "code",
   "execution_count": 64,
   "id": "f2219206-7c35-4626-bd00-5cc681de189f",
   "metadata": {},
   "outputs": [],
   "source": [
    "import matplotlib.pyplot as plt\n",
    "from IPython.display import clear_output\n",
    "\n",
    "def plot_stats(\n",
    "    train_loss: list[float],\n",
    "    valid_loss: list[float],\n",
    "    title: str\n",
    "):\n",
    "    plt.figure(figsize=(16, 8))\n",
    "\n",
    "    plt.title(title + ' loss')\n",
    "\n",
    "    plt.plot(train_loss, label='Train loss')\n",
    "    plt.plot(valid_loss, label='Valid loss')\n",
    "    plt.legend()\n",
    "    plt.grid()\n",
    "\n",
    "    plt.show()"
   ]
  },
  {
   "cell_type": "code",
   "execution_count": 66,
   "id": "7992f785-1025-46af-b4f5-f9dafe6289c0",
   "metadata": {},
   "outputs": [],
   "source": [
    "def whole_train_valid_cycle(model, num_epochs, title):\n",
    "    train_loss_history, valid_loss_history = [], []\n",
    "    best_valid_loss = 1\n",
    "    \n",
    "    for epoch in range(num_epochs):\n",
    "        train_loss = train(model)\n",
    "        valid_loss = evaluate(model, valid_loader)\n",
    "\n",
    "        train_loss_history.append(train_loss)\n",
    "        valid_loss_history.append(valid_loss)\n",
    "        \n",
    "        clear_output()\n",
    "\n",
    "        plot_stats(\n",
    "            train_loss_history, valid_loss_history,\n",
    "            title\n",
    "        ) \n",
    "        \n",
    "        if valid_loss < best_valid_loss:\n",
    "            best_valid_loss = valid_loss\n",
    "            torch.save({\n",
    "                'epoch': epoch+1,\n",
    "                'model_state_dict': model.state_dict(),\n",
    "                'optimizer_state_dict': optimizer.state_dict(),\n",
    "                }, 'best_model.pth')"
   ]
  },
  {
   "cell_type": "code",
   "execution_count": 68,
   "id": "ba015d8b-71ad-4a01-a636-16bfc5817430",
   "metadata": {},
   "outputs": [
    {
     "data": {
      "text/plain": [
       "device(type='cpu')"
      ]
     },
     "execution_count": 68,
     "metadata": {},
     "output_type": "execute_result"
    }
   ],
   "source": [
    "device = torch.device('cuda:0' if torch.cuda.is_available() else 'cpu')\n",
    "device"
   ]
  },
  {
   "cell_type": "markdown",
   "id": "ddadfbde-0463-43f9-bc40-c6154bd07ed7",
   "metadata": {},
   "source": [
    "Создадим сеть, оптимайзер и функцию потерь. Выставим веса для полносвязных слоев."
   ]
  },
  {
   "cell_type": "code",
   "execution_count": 75,
   "id": "4db2568f-9bbe-4029-abb0-b7aafaea070f",
   "metadata": {},
   "outputs": [
    {
     "data": {
      "text/plain": [
       "Model(\n",
       "  (lstm1): LSTM(33, 1024, batch_first=True, dropout=0.3)\n",
       "  (lstm2): LSTM(1024, 512, batch_first=True, dropout=0.3)\n",
       "  (lstm3): LSTM(512, 256, batch_first=True, dropout=0.3)\n",
       "  (linear): Sequential(\n",
       "    (0): Linear(in_features=256, out_features=64, bias=True)\n",
       "    (1): Tanh()\n",
       "    (2): Linear(in_features=64, out_features=16, bias=True)\n",
       "    (3): Tanh()\n",
       "    (4): Linear(in_features=16, out_features=1, bias=True)\n",
       "  )\n",
       ")"
      ]
     },
     "execution_count": 75,
     "metadata": {},
     "output_type": "execute_result"
    }
   ],
   "source": [
    "from torch.optim import Adam\n",
    "\n",
    "model = Model().to(device)\n",
    "optimizer = Adam(model.parameters(), lr=1e-4)\n",
    "loss_fn = nn.MSELoss().to(device)\n",
    "\n",
    "def weights_init(m):\n",
    "        classname = m.__class__.__name__\n",
    "        if classname.find('Linear') != -1:\n",
    "            nn.init.xavier_uniform_(m.weight)\n",
    "\n",
    "model.apply(weights_init)"
   ]
  },
  {
   "cell_type": "code",
   "execution_count": 77,
   "id": "bcd606e8-2a45-4e69-b224-51b18655490d",
   "metadata": {},
   "outputs": [
    {
     "data": {
      "image/png": "[encoded data removed]",
      "text/plain": [
       "<Figure size 1600x800 with 1 Axes>"
      ]
     },
     "metadata": {},
     "output_type": "display_data"
    }
   ],
   "source": [
    "whole_train_valid_cycle(model, 20, 'vas')"
   ]
  },
  {
   "cell_type": "markdown",
   "id": "c1a8c586-3ae8-4590-8a34-83b7e3375f77",
   "metadata": {},
   "source": [
    "Лучшая модель сохранится. Загрузим ее и сделаем предсказание для тестовой выборки. Результат обратно отмасштабируем, умножим на сто тысяч и сохраним."
   ]
  },
  {
   "cell_type": "code",
   "execution_count": 80,
   "id": "83622aed-8fec-4e04-a4d0-d3c7acde2046",
   "metadata": {},
   "outputs": [
    {
     "name": "stderr",
     "output_type": "stream",
     "text": [
      "Evaluation: 100%|████████████████████████████████████████████████████████████████████████| 8/8 [00:00<00:00, 40.67it/s]\n"
     ]
    }
   ],
   "source": [
    "best_model_cp = torch.load('best_model.pth')\n",
    "model.load_state_dict(best_model_cp['model_state_dict'])\n",
    "\n",
    "@torch.inference_mode()\n",
    "def predict(model, loader):\n",
    "    model.eval()\n",
    "\n",
    "    total_sub = []\n",
    "    for x in tqdm(loader, desc='Evaluation'):\n",
    "        x = x[0].to(device)\n",
    "        output = model(x)\n",
    "        total_sub.append(output.cpu())\n",
    "\n",
    "    return torch.cat(total_sub, dim=0)\n",
    "\n",
    "preds = predict(model, test_loader).numpy()\n",
    "preds = y_sc.inverse_transform(preds) * 100000\n",
    "submission_df = pd.DataFrame({\n",
    "    'Id': range(1, len(preds) + 1),\n",
    "    'Close': preds.ravel()\n",
    "})\n",
    "\n",
    "submission_df.to_csv(\"submission.csv\", index=False)"
   ]
  },
  {
   "cell_type": "markdown",
   "id": "a23dc277-8d66-4c32-83bd-f258a12ce790",
   "metadata": {},
   "source": [
    "После отправления результата на странице соревнования получим такую оценку: __11918977062801800__.   \n",
    "Для сравнения вот оценка __16-го__ места: __19407614255964400__."
   ]
  },
  {
   "cell_type": "code",
   "execution_count": null,
   "id": "188f7886-ae2a-4c02-918e-81857b0c9ed4",
   "metadata": {},
   "outputs": [],
   "source": []
  }
 ],
 "metadata": {
  "kernelspec": {
   "display_name": "Python 3 (ipykernel)",
   "language": "python",
   "name": "python3"
  },
  "language_info": {
   "codemirror_mode": {
    "name": "ipython",
    "version": 3
   },
   "file_extension": ".py",
   "mimetype": "text/x-python",
   "name": "python",
   "nbconvert_exporter": "python",
   "pygments_lexer": "ipython3",
   "version": "3.12.7"
  }
 },
 "nbformat": 4,
 "nbformat_minor": 5
}
